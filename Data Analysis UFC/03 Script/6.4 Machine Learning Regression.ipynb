{
 "cells": [
  {
   "cell_type": "markdown",
   "id": "cb1621d9",
   "metadata": {},
   "source": [
    "# Importing Libraries"
   ]
  },
  {
   "cell_type": "code",
   "execution_count": 1,
   "id": "4be983f6",
   "metadata": {},
   "outputs": [],
   "source": [
    "import pandas as pd\n",
    "import numpy as np\n",
    "import seaborn as sns\n",
    "import matplotlib\n",
    "import matplotlib.pyplot as plt\n",
    "import os\n",
    "import sklearn\n",
    "from sklearn.model_selection import train_test_split \n",
    "from sklearn.linear_model import LinearRegression\n",
    "from sklearn.metrics import mean_squared_error, r2_score"
   ]
  },
  {
   "cell_type": "code",
   "execution_count": 2,
   "id": "ca858baa",
   "metadata": {},
   "outputs": [],
   "source": [
    "%matplotlib inline"
   ]
  },
  {
   "cell_type": "code",
   "execution_count": 3,
   "id": "a094cbbb",
   "metadata": {},
   "outputs": [],
   "source": [
    "path = r'C:\\\\Users\\\\figue\\\\Data Analysis UFC'"
   ]
  },
  {
   "cell_type": "code",
   "execution_count": 4,
   "id": "150bc7ac",
   "metadata": {},
   "outputs": [],
   "source": [
    "df = pd.read_csv(os.path.join(path, '02 Data', 'Prepared Data', 'UFC_Map.csv'))"
   ]
  },
  {
   "cell_type": "code",
   "execution_count": 5,
   "id": "69bc7ec2",
   "metadata": {},
   "outputs": [],
   "source": [
    "pd.set_option('display.max_columns', None)"
   ]
  },
  {
   "cell_type": "markdown",
   "id": "1e3a5586",
   "metadata": {},
   "source": [
    "# Data Cleaning"
   ]
  },
  {
   "cell_type": "code",
   "execution_count": 6,
   "id": "fc96dfde",
   "metadata": {},
   "outputs": [
    {
     "data": {
      "text/html": [
       "<div>\n",
       "<style scoped>\n",
       "    .dataframe tbody tr th:only-of-type {\n",
       "        vertical-align: middle;\n",
       "    }\n",
       "\n",
       "    .dataframe tbody tr th {\n",
       "        vertical-align: top;\n",
       "    }\n",
       "\n",
       "    .dataframe thead th {\n",
       "        text-align: right;\n",
       "    }\n",
       "</style>\n",
       "<table border=\"1\" class=\"dataframe\">\n",
       "  <thead>\n",
       "    <tr style=\"text-align: right;\">\n",
       "      <th></th>\n",
       "      <th>Unnamed: 0.1</th>\n",
       "      <th>Unnamed: 0</th>\n",
       "      <th>R_fighter</th>\n",
       "      <th>B_fighter</th>\n",
       "      <th>Referee</th>\n",
       "      <th>date</th>\n",
       "      <th>Winner</th>\n",
       "      <th>Title Fight</th>\n",
       "      <th>weight_class</th>\n",
       "      <th>B Rounds</th>\n",
       "      <th>B Title Fights</th>\n",
       "      <th>B_current_win_streak</th>\n",
       "      <th>B_current_lose_streak</th>\n",
       "      <th>B_longest_win_streak</th>\n",
       "      <th>B_wins</th>\n",
       "      <th>B_losses</th>\n",
       "      <th>B_draw</th>\n",
       "      <th>B_win_by_Decision_Unanimous</th>\n",
       "      <th>B_win_by_KO/TKO</th>\n",
       "      <th>B_win_by_Submission</th>\n",
       "      <th>B_Stance</th>\n",
       "      <th>B_Weight_lbs</th>\n",
       "      <th>R Rounds</th>\n",
       "      <th>R Title Fights</th>\n",
       "      <th>R_current_win_streak</th>\n",
       "      <th>R_current_lose_streak</th>\n",
       "      <th>R_longest_win_streak</th>\n",
       "      <th>R_wins</th>\n",
       "      <th>R_losses</th>\n",
       "      <th>R_draw</th>\n",
       "      <th>R_win_by_Decision_Unanimous</th>\n",
       "      <th>R_win_by_KO/TKO</th>\n",
       "      <th>R_win_by_Submission</th>\n",
       "      <th>R_Stance</th>\n",
       "      <th>R_Weight_lbs</th>\n",
       "      <th>B_age</th>\n",
       "      <th>R_age</th>\n",
       "      <th>R_Age Range</th>\n",
       "      <th>B_Age Range</th>\n",
       "      <th>Country1</th>\n",
       "    </tr>\n",
       "  </thead>\n",
       "  <tbody>\n",
       "    <tr>\n",
       "      <th>0</th>\n",
       "      <td>0</td>\n",
       "      <td>0</td>\n",
       "      <td>Adrian Yanez</td>\n",
       "      <td>Gustavo Lopez</td>\n",
       "      <td>Chris Tognoni</td>\n",
       "      <td>3/20/2021</td>\n",
       "      <td>Red</td>\n",
       "      <td>False</td>\n",
       "      <td>Bantamweight</td>\n",
       "      <td>4</td>\n",
       "      <td>0</td>\n",
       "      <td>0</td>\n",
       "      <td>1</td>\n",
       "      <td>1</td>\n",
       "      <td>1</td>\n",
       "      <td>1</td>\n",
       "      <td>0</td>\n",
       "      <td>0</td>\n",
       "      <td>0</td>\n",
       "      <td>1</td>\n",
       "      <td>Orthodox</td>\n",
       "      <td>135</td>\n",
       "      <td>1</td>\n",
       "      <td>0</td>\n",
       "      <td>1</td>\n",
       "      <td>0</td>\n",
       "      <td>1</td>\n",
       "      <td>1</td>\n",
       "      <td>0</td>\n",
       "      <td>0</td>\n",
       "      <td>0</td>\n",
       "      <td>1</td>\n",
       "      <td>0</td>\n",
       "      <td>Orthodox</td>\n",
       "      <td>135</td>\n",
       "      <td>31.0</td>\n",
       "      <td>27.0</td>\n",
       "      <td>Young Prospect</td>\n",
       "      <td>Experienced</td>\n",
       "      <td>United States of America</td>\n",
       "    </tr>\n",
       "    <tr>\n",
       "      <th>1</th>\n",
       "      <td>1</td>\n",
       "      <td>1</td>\n",
       "      <td>Trevin Giles</td>\n",
       "      <td>Roman Dolidze</td>\n",
       "      <td>Herb Dean</td>\n",
       "      <td>3/20/2021</td>\n",
       "      <td>Red</td>\n",
       "      <td>False</td>\n",
       "      <td>Middleweight</td>\n",
       "      <td>4</td>\n",
       "      <td>0</td>\n",
       "      <td>2</td>\n",
       "      <td>0</td>\n",
       "      <td>2</td>\n",
       "      <td>2</td>\n",
       "      <td>0</td>\n",
       "      <td>0</td>\n",
       "      <td>0</td>\n",
       "      <td>1</td>\n",
       "      <td>0</td>\n",
       "      <td>Orthodox</td>\n",
       "      <td>205</td>\n",
       "      <td>17</td>\n",
       "      <td>0</td>\n",
       "      <td>2</td>\n",
       "      <td>0</td>\n",
       "      <td>2</td>\n",
       "      <td>4</td>\n",
       "      <td>2</td>\n",
       "      <td>0</td>\n",
       "      <td>0</td>\n",
       "      <td>3</td>\n",
       "      <td>0</td>\n",
       "      <td>Orthodox</td>\n",
       "      <td>185</td>\n",
       "      <td>32.0</td>\n",
       "      <td>28.0</td>\n",
       "      <td>Experienced</td>\n",
       "      <td>Experienced</td>\n",
       "      <td>United States of America</td>\n",
       "    </tr>\n",
       "    <tr>\n",
       "      <th>2</th>\n",
       "      <td>2</td>\n",
       "      <td>2</td>\n",
       "      <td>Marion Reneau</td>\n",
       "      <td>Macy Chiasson</td>\n",
       "      <td>Mark Smith</td>\n",
       "      <td>3/20/2021</td>\n",
       "      <td>Blue</td>\n",
       "      <td>False</td>\n",
       "      <td>WomenBantamweight</td>\n",
       "      <td>11</td>\n",
       "      <td>1</td>\n",
       "      <td>3</td>\n",
       "      <td>0</td>\n",
       "      <td>3</td>\n",
       "      <td>4</td>\n",
       "      <td>1</td>\n",
       "      <td>0</td>\n",
       "      <td>1</td>\n",
       "      <td>2</td>\n",
       "      <td>1</td>\n",
       "      <td>Orthodox</td>\n",
       "      <td>135</td>\n",
       "      <td>30</td>\n",
       "      <td>0</td>\n",
       "      <td>2</td>\n",
       "      <td>0</td>\n",
       "      <td>2</td>\n",
       "      <td>5</td>\n",
       "      <td>6</td>\n",
       "      <td>0</td>\n",
       "      <td>1</td>\n",
       "      <td>2</td>\n",
       "      <td>2</td>\n",
       "      <td>Orthodox</td>\n",
       "      <td>135</td>\n",
       "      <td>29.0</td>\n",
       "      <td>43.0</td>\n",
       "      <td>Veteran</td>\n",
       "      <td>Experienced</td>\n",
       "      <td>United States of America</td>\n",
       "    </tr>\n",
       "    <tr>\n",
       "      <th>3</th>\n",
       "      <td>3</td>\n",
       "      <td>3</td>\n",
       "      <td>Leonardo Santos</td>\n",
       "      <td>Grant Dawson</td>\n",
       "      <td>Chris Tognoni</td>\n",
       "      <td>3/20/2021</td>\n",
       "      <td>Blue</td>\n",
       "      <td>False</td>\n",
       "      <td>Lightweight</td>\n",
       "      <td>10</td>\n",
       "      <td>0</td>\n",
       "      <td>4</td>\n",
       "      <td>0</td>\n",
       "      <td>4</td>\n",
       "      <td>4</td>\n",
       "      <td>0</td>\n",
       "      <td>0</td>\n",
       "      <td>2</td>\n",
       "      <td>0</td>\n",
       "      <td>2</td>\n",
       "      <td>Switch</td>\n",
       "      <td>145</td>\n",
       "      <td>18</td>\n",
       "      <td>1</td>\n",
       "      <td>1</td>\n",
       "      <td>0</td>\n",
       "      <td>6</td>\n",
       "      <td>7</td>\n",
       "      <td>1</td>\n",
       "      <td>0</td>\n",
       "      <td>2</td>\n",
       "      <td>2</td>\n",
       "      <td>2</td>\n",
       "      <td>Orthodox</td>\n",
       "      <td>155</td>\n",
       "      <td>27.0</td>\n",
       "      <td>41.0</td>\n",
       "      <td>Veteran</td>\n",
       "      <td>Young Prospect</td>\n",
       "      <td>United States of America</td>\n",
       "    </tr>\n",
       "    <tr>\n",
       "      <th>4</th>\n",
       "      <td>4</td>\n",
       "      <td>4</td>\n",
       "      <td>Song Kenan</td>\n",
       "      <td>Max Griffin</td>\n",
       "      <td>Keith Peterson</td>\n",
       "      <td>3/20/2021</td>\n",
       "      <td>Blue</td>\n",
       "      <td>False</td>\n",
       "      <td>Welterweight</td>\n",
       "      <td>28</td>\n",
       "      <td>0</td>\n",
       "      <td>0</td>\n",
       "      <td>1</td>\n",
       "      <td>1</td>\n",
       "      <td>4</td>\n",
       "      <td>6</td>\n",
       "      <td>0</td>\n",
       "      <td>1</td>\n",
       "      <td>2</td>\n",
       "      <td>0</td>\n",
       "      <td>Orthodox</td>\n",
       "      <td>170</td>\n",
       "      <td>10</td>\n",
       "      <td>0</td>\n",
       "      <td>2</td>\n",
       "      <td>0</td>\n",
       "      <td>2</td>\n",
       "      <td>4</td>\n",
       "      <td>1</td>\n",
       "      <td>0</td>\n",
       "      <td>1</td>\n",
       "      <td>3</td>\n",
       "      <td>0</td>\n",
       "      <td>Orthodox</td>\n",
       "      <td>170</td>\n",
       "      <td>35.0</td>\n",
       "      <td>31.0</td>\n",
       "      <td>Experienced</td>\n",
       "      <td>Experienced</td>\n",
       "      <td>United States of America</td>\n",
       "    </tr>\n",
       "  </tbody>\n",
       "</table>\n",
       "</div>"
      ],
      "text/plain": [
       "   Unnamed: 0.1  Unnamed: 0        R_fighter      B_fighter         Referee  \\\n",
       "0             0           0     Adrian Yanez  Gustavo Lopez   Chris Tognoni   \n",
       "1             1           1     Trevin Giles  Roman Dolidze       Herb Dean   \n",
       "2             2           2    Marion Reneau  Macy Chiasson      Mark Smith   \n",
       "3             3           3  Leonardo Santos   Grant Dawson   Chris Tognoni   \n",
       "4             4           4       Song Kenan    Max Griffin  Keith Peterson   \n",
       "\n",
       "        date Winner  Title Fight       weight_class  B Rounds  B Title Fights  \\\n",
       "0  3/20/2021    Red        False       Bantamweight         4               0   \n",
       "1  3/20/2021    Red        False       Middleweight         4               0   \n",
       "2  3/20/2021   Blue        False  WomenBantamweight        11               1   \n",
       "3  3/20/2021   Blue        False        Lightweight        10               0   \n",
       "4  3/20/2021   Blue        False       Welterweight        28               0   \n",
       "\n",
       "   B_current_win_streak  B_current_lose_streak  B_longest_win_streak  B_wins  \\\n",
       "0                     0                      1                     1       1   \n",
       "1                     2                      0                     2       2   \n",
       "2                     3                      0                     3       4   \n",
       "3                     4                      0                     4       4   \n",
       "4                     0                      1                     1       4   \n",
       "\n",
       "   B_losses  B_draw  B_win_by_Decision_Unanimous  B_win_by_KO/TKO  \\\n",
       "0         1       0                            0                0   \n",
       "1         0       0                            0                1   \n",
       "2         1       0                            1                2   \n",
       "3         0       0                            2                0   \n",
       "4         6       0                            1                2   \n",
       "\n",
       "   B_win_by_Submission  B_Stance  B_Weight_lbs  R Rounds  R Title Fights  \\\n",
       "0                    1  Orthodox           135         1               0   \n",
       "1                    0  Orthodox           205        17               0   \n",
       "2                    1  Orthodox           135        30               0   \n",
       "3                    2    Switch           145        18               1   \n",
       "4                    0  Orthodox           170        10               0   \n",
       "\n",
       "   R_current_win_streak  R_current_lose_streak  R_longest_win_streak  R_wins  \\\n",
       "0                     1                      0                     1       1   \n",
       "1                     2                      0                     2       4   \n",
       "2                     2                      0                     2       5   \n",
       "3                     1                      0                     6       7   \n",
       "4                     2                      0                     2       4   \n",
       "\n",
       "   R_losses  R_draw  R_win_by_Decision_Unanimous  R_win_by_KO/TKO  \\\n",
       "0         0       0                            0                1   \n",
       "1         2       0                            0                3   \n",
       "2         6       0                            1                2   \n",
       "3         1       0                            2                2   \n",
       "4         1       0                            1                3   \n",
       "\n",
       "   R_win_by_Submission  R_Stance  R_Weight_lbs  B_age  R_age     R_Age Range  \\\n",
       "0                    0  Orthodox           135   31.0   27.0  Young Prospect   \n",
       "1                    0  Orthodox           185   32.0   28.0     Experienced   \n",
       "2                    2  Orthodox           135   29.0   43.0         Veteran   \n",
       "3                    2  Orthodox           155   27.0   41.0         Veteran   \n",
       "4                    0  Orthodox           170   35.0   31.0     Experienced   \n",
       "\n",
       "      B_Age Range                  Country1  \n",
       "0     Experienced  United States of America  \n",
       "1     Experienced  United States of America  \n",
       "2     Experienced  United States of America  \n",
       "3  Young Prospect  United States of America  \n",
       "4     Experienced  United States of America  "
      ]
     },
     "execution_count": 6,
     "metadata": {},
     "output_type": "execute_result"
    }
   ],
   "source": [
    "# Checking Data \n",
    "df.head()"
   ]
  },
  {
   "cell_type": "code",
   "execution_count": 7,
   "id": "a8204ef3",
   "metadata": {},
   "outputs": [],
   "source": [
    "df = df.drop(columns = ['Unnamed: 0.1', 'Unnamed: 0'])"
   ]
  },
  {
   "cell_type": "code",
   "execution_count": 8,
   "id": "b425e299",
   "metadata": {},
   "outputs": [
    {
     "data": {
      "text/html": [
       "<div>\n",
       "<style scoped>\n",
       "    .dataframe tbody tr th:only-of-type {\n",
       "        vertical-align: middle;\n",
       "    }\n",
       "\n",
       "    .dataframe tbody tr th {\n",
       "        vertical-align: top;\n",
       "    }\n",
       "\n",
       "    .dataframe thead th {\n",
       "        text-align: right;\n",
       "    }\n",
       "</style>\n",
       "<table border=\"1\" class=\"dataframe\">\n",
       "  <thead>\n",
       "    <tr style=\"text-align: right;\">\n",
       "      <th></th>\n",
       "      <th>R_fighter</th>\n",
       "      <th>B_fighter</th>\n",
       "      <th>Referee</th>\n",
       "      <th>date</th>\n",
       "      <th>Winner</th>\n",
       "      <th>Title Fight</th>\n",
       "      <th>weight_class</th>\n",
       "      <th>B Rounds</th>\n",
       "      <th>B Title Fights</th>\n",
       "      <th>B_current_win_streak</th>\n",
       "      <th>B_current_lose_streak</th>\n",
       "      <th>B_longest_win_streak</th>\n",
       "      <th>B_wins</th>\n",
       "      <th>B_losses</th>\n",
       "      <th>B_draw</th>\n",
       "      <th>B_win_by_Decision_Unanimous</th>\n",
       "      <th>B_win_by_KO/TKO</th>\n",
       "      <th>B_win_by_Submission</th>\n",
       "      <th>B_Stance</th>\n",
       "      <th>B_Weight_lbs</th>\n",
       "      <th>R Rounds</th>\n",
       "      <th>R Title Fights</th>\n",
       "      <th>R_current_win_streak</th>\n",
       "      <th>R_current_lose_streak</th>\n",
       "      <th>R_longest_win_streak</th>\n",
       "      <th>R_wins</th>\n",
       "      <th>R_losses</th>\n",
       "      <th>R_draw</th>\n",
       "      <th>R_win_by_Decision_Unanimous</th>\n",
       "      <th>R_win_by_KO/TKO</th>\n",
       "      <th>R_win_by_Submission</th>\n",
       "      <th>R_Stance</th>\n",
       "      <th>R_Weight_lbs</th>\n",
       "      <th>B_age</th>\n",
       "      <th>R_age</th>\n",
       "      <th>R_Age Range</th>\n",
       "      <th>B_Age Range</th>\n",
       "      <th>Country1</th>\n",
       "    </tr>\n",
       "  </thead>\n",
       "  <tbody>\n",
       "    <tr>\n",
       "      <th>0</th>\n",
       "      <td>Adrian Yanez</td>\n",
       "      <td>Gustavo Lopez</td>\n",
       "      <td>Chris Tognoni</td>\n",
       "      <td>3/20/2021</td>\n",
       "      <td>Red</td>\n",
       "      <td>False</td>\n",
       "      <td>Bantamweight</td>\n",
       "      <td>4</td>\n",
       "      <td>0</td>\n",
       "      <td>0</td>\n",
       "      <td>1</td>\n",
       "      <td>1</td>\n",
       "      <td>1</td>\n",
       "      <td>1</td>\n",
       "      <td>0</td>\n",
       "      <td>0</td>\n",
       "      <td>0</td>\n",
       "      <td>1</td>\n",
       "      <td>Orthodox</td>\n",
       "      <td>135</td>\n",
       "      <td>1</td>\n",
       "      <td>0</td>\n",
       "      <td>1</td>\n",
       "      <td>0</td>\n",
       "      <td>1</td>\n",
       "      <td>1</td>\n",
       "      <td>0</td>\n",
       "      <td>0</td>\n",
       "      <td>0</td>\n",
       "      <td>1</td>\n",
       "      <td>0</td>\n",
       "      <td>Orthodox</td>\n",
       "      <td>135</td>\n",
       "      <td>31.0</td>\n",
       "      <td>27.0</td>\n",
       "      <td>Young Prospect</td>\n",
       "      <td>Experienced</td>\n",
       "      <td>United States of America</td>\n",
       "    </tr>\n",
       "    <tr>\n",
       "      <th>1</th>\n",
       "      <td>Trevin Giles</td>\n",
       "      <td>Roman Dolidze</td>\n",
       "      <td>Herb Dean</td>\n",
       "      <td>3/20/2021</td>\n",
       "      <td>Red</td>\n",
       "      <td>False</td>\n",
       "      <td>Middleweight</td>\n",
       "      <td>4</td>\n",
       "      <td>0</td>\n",
       "      <td>2</td>\n",
       "      <td>0</td>\n",
       "      <td>2</td>\n",
       "      <td>2</td>\n",
       "      <td>0</td>\n",
       "      <td>0</td>\n",
       "      <td>0</td>\n",
       "      <td>1</td>\n",
       "      <td>0</td>\n",
       "      <td>Orthodox</td>\n",
       "      <td>205</td>\n",
       "      <td>17</td>\n",
       "      <td>0</td>\n",
       "      <td>2</td>\n",
       "      <td>0</td>\n",
       "      <td>2</td>\n",
       "      <td>4</td>\n",
       "      <td>2</td>\n",
       "      <td>0</td>\n",
       "      <td>0</td>\n",
       "      <td>3</td>\n",
       "      <td>0</td>\n",
       "      <td>Orthodox</td>\n",
       "      <td>185</td>\n",
       "      <td>32.0</td>\n",
       "      <td>28.0</td>\n",
       "      <td>Experienced</td>\n",
       "      <td>Experienced</td>\n",
       "      <td>United States of America</td>\n",
       "    </tr>\n",
       "    <tr>\n",
       "      <th>2</th>\n",
       "      <td>Marion Reneau</td>\n",
       "      <td>Macy Chiasson</td>\n",
       "      <td>Mark Smith</td>\n",
       "      <td>3/20/2021</td>\n",
       "      <td>Blue</td>\n",
       "      <td>False</td>\n",
       "      <td>WomenBantamweight</td>\n",
       "      <td>11</td>\n",
       "      <td>1</td>\n",
       "      <td>3</td>\n",
       "      <td>0</td>\n",
       "      <td>3</td>\n",
       "      <td>4</td>\n",
       "      <td>1</td>\n",
       "      <td>0</td>\n",
       "      <td>1</td>\n",
       "      <td>2</td>\n",
       "      <td>1</td>\n",
       "      <td>Orthodox</td>\n",
       "      <td>135</td>\n",
       "      <td>30</td>\n",
       "      <td>0</td>\n",
       "      <td>2</td>\n",
       "      <td>0</td>\n",
       "      <td>2</td>\n",
       "      <td>5</td>\n",
       "      <td>6</td>\n",
       "      <td>0</td>\n",
       "      <td>1</td>\n",
       "      <td>2</td>\n",
       "      <td>2</td>\n",
       "      <td>Orthodox</td>\n",
       "      <td>135</td>\n",
       "      <td>29.0</td>\n",
       "      <td>43.0</td>\n",
       "      <td>Veteran</td>\n",
       "      <td>Experienced</td>\n",
       "      <td>United States of America</td>\n",
       "    </tr>\n",
       "    <tr>\n",
       "      <th>3</th>\n",
       "      <td>Leonardo Santos</td>\n",
       "      <td>Grant Dawson</td>\n",
       "      <td>Chris Tognoni</td>\n",
       "      <td>3/20/2021</td>\n",
       "      <td>Blue</td>\n",
       "      <td>False</td>\n",
       "      <td>Lightweight</td>\n",
       "      <td>10</td>\n",
       "      <td>0</td>\n",
       "      <td>4</td>\n",
       "      <td>0</td>\n",
       "      <td>4</td>\n",
       "      <td>4</td>\n",
       "      <td>0</td>\n",
       "      <td>0</td>\n",
       "      <td>2</td>\n",
       "      <td>0</td>\n",
       "      <td>2</td>\n",
       "      <td>Switch</td>\n",
       "      <td>145</td>\n",
       "      <td>18</td>\n",
       "      <td>1</td>\n",
       "      <td>1</td>\n",
       "      <td>0</td>\n",
       "      <td>6</td>\n",
       "      <td>7</td>\n",
       "      <td>1</td>\n",
       "      <td>0</td>\n",
       "      <td>2</td>\n",
       "      <td>2</td>\n",
       "      <td>2</td>\n",
       "      <td>Orthodox</td>\n",
       "      <td>155</td>\n",
       "      <td>27.0</td>\n",
       "      <td>41.0</td>\n",
       "      <td>Veteran</td>\n",
       "      <td>Young Prospect</td>\n",
       "      <td>United States of America</td>\n",
       "    </tr>\n",
       "    <tr>\n",
       "      <th>4</th>\n",
       "      <td>Song Kenan</td>\n",
       "      <td>Max Griffin</td>\n",
       "      <td>Keith Peterson</td>\n",
       "      <td>3/20/2021</td>\n",
       "      <td>Blue</td>\n",
       "      <td>False</td>\n",
       "      <td>Welterweight</td>\n",
       "      <td>28</td>\n",
       "      <td>0</td>\n",
       "      <td>0</td>\n",
       "      <td>1</td>\n",
       "      <td>1</td>\n",
       "      <td>4</td>\n",
       "      <td>6</td>\n",
       "      <td>0</td>\n",
       "      <td>1</td>\n",
       "      <td>2</td>\n",
       "      <td>0</td>\n",
       "      <td>Orthodox</td>\n",
       "      <td>170</td>\n",
       "      <td>10</td>\n",
       "      <td>0</td>\n",
       "      <td>2</td>\n",
       "      <td>0</td>\n",
       "      <td>2</td>\n",
       "      <td>4</td>\n",
       "      <td>1</td>\n",
       "      <td>0</td>\n",
       "      <td>1</td>\n",
       "      <td>3</td>\n",
       "      <td>0</td>\n",
       "      <td>Orthodox</td>\n",
       "      <td>170</td>\n",
       "      <td>35.0</td>\n",
       "      <td>31.0</td>\n",
       "      <td>Experienced</td>\n",
       "      <td>Experienced</td>\n",
       "      <td>United States of America</td>\n",
       "    </tr>\n",
       "  </tbody>\n",
       "</table>\n",
       "</div>"
      ],
      "text/plain": [
       "         R_fighter      B_fighter         Referee       date Winner  \\\n",
       "0     Adrian Yanez  Gustavo Lopez   Chris Tognoni  3/20/2021    Red   \n",
       "1     Trevin Giles  Roman Dolidze       Herb Dean  3/20/2021    Red   \n",
       "2    Marion Reneau  Macy Chiasson      Mark Smith  3/20/2021   Blue   \n",
       "3  Leonardo Santos   Grant Dawson   Chris Tognoni  3/20/2021   Blue   \n",
       "4       Song Kenan    Max Griffin  Keith Peterson  3/20/2021   Blue   \n",
       "\n",
       "   Title Fight       weight_class  B Rounds  B Title Fights  \\\n",
       "0        False       Bantamweight         4               0   \n",
       "1        False       Middleweight         4               0   \n",
       "2        False  WomenBantamweight        11               1   \n",
       "3        False        Lightweight        10               0   \n",
       "4        False       Welterweight        28               0   \n",
       "\n",
       "   B_current_win_streak  B_current_lose_streak  B_longest_win_streak  B_wins  \\\n",
       "0                     0                      1                     1       1   \n",
       "1                     2                      0                     2       2   \n",
       "2                     3                      0                     3       4   \n",
       "3                     4                      0                     4       4   \n",
       "4                     0                      1                     1       4   \n",
       "\n",
       "   B_losses  B_draw  B_win_by_Decision_Unanimous  B_win_by_KO/TKO  \\\n",
       "0         1       0                            0                0   \n",
       "1         0       0                            0                1   \n",
       "2         1       0                            1                2   \n",
       "3         0       0                            2                0   \n",
       "4         6       0                            1                2   \n",
       "\n",
       "   B_win_by_Submission  B_Stance  B_Weight_lbs  R Rounds  R Title Fights  \\\n",
       "0                    1  Orthodox           135         1               0   \n",
       "1                    0  Orthodox           205        17               0   \n",
       "2                    1  Orthodox           135        30               0   \n",
       "3                    2    Switch           145        18               1   \n",
       "4                    0  Orthodox           170        10               0   \n",
       "\n",
       "   R_current_win_streak  R_current_lose_streak  R_longest_win_streak  R_wins  \\\n",
       "0                     1                      0                     1       1   \n",
       "1                     2                      0                     2       4   \n",
       "2                     2                      0                     2       5   \n",
       "3                     1                      0                     6       7   \n",
       "4                     2                      0                     2       4   \n",
       "\n",
       "   R_losses  R_draw  R_win_by_Decision_Unanimous  R_win_by_KO/TKO  \\\n",
       "0         0       0                            0                1   \n",
       "1         2       0                            0                3   \n",
       "2         6       0                            1                2   \n",
       "3         1       0                            2                2   \n",
       "4         1       0                            1                3   \n",
       "\n",
       "   R_win_by_Submission  R_Stance  R_Weight_lbs  B_age  R_age     R_Age Range  \\\n",
       "0                    0  Orthodox           135   31.0   27.0  Young Prospect   \n",
       "1                    0  Orthodox           185   32.0   28.0     Experienced   \n",
       "2                    2  Orthodox           135   29.0   43.0         Veteran   \n",
       "3                    2  Orthodox           155   27.0   41.0         Veteran   \n",
       "4                    0  Orthodox           170   35.0   31.0     Experienced   \n",
       "\n",
       "      B_Age Range                  Country1  \n",
       "0     Experienced  United States of America  \n",
       "1     Experienced  United States of America  \n",
       "2     Experienced  United States of America  \n",
       "3  Young Prospect  United States of America  \n",
       "4     Experienced  United States of America  "
      ]
     },
     "execution_count": 8,
     "metadata": {},
     "output_type": "execute_result"
    }
   ],
   "source": [
    "df.head()"
   ]
  },
  {
   "cell_type": "markdown",
   "id": "96d2c190",
   "metadata": {},
   "source": [
    "## Missing Values"
   ]
  },
  {
   "cell_type": "code",
   "execution_count": 9,
   "id": "54d12485",
   "metadata": {},
   "outputs": [
    {
     "data": {
      "text/plain": [
       "R_fighter                        0\n",
       "B_fighter                        0\n",
       "Referee                          0\n",
       "date                             0\n",
       "Winner                           0\n",
       "Title Fight                      0\n",
       "weight_class                     0\n",
       "B Rounds                         0\n",
       "B Title Fights                   0\n",
       "B_current_win_streak             0\n",
       "B_current_lose_streak            0\n",
       "B_longest_win_streak             0\n",
       "B_wins                           0\n",
       "B_losses                         0\n",
       "B_draw                           0\n",
       "B_win_by_Decision_Unanimous      0\n",
       "B_win_by_KO/TKO                  0\n",
       "B_win_by_Submission              0\n",
       "B_Stance                        11\n",
       "B_Weight_lbs                     0\n",
       "R Rounds                         0\n",
       "R Title Fights                   0\n",
       "R_current_win_streak             0\n",
       "R_current_lose_streak            0\n",
       "R_longest_win_streak             0\n",
       "R_wins                           0\n",
       "R_losses                         0\n",
       "R_draw                           0\n",
       "R_win_by_Decision_Unanimous      0\n",
       "R_win_by_KO/TKO                  0\n",
       "R_win_by_Submission              0\n",
       "R_Stance                         6\n",
       "R_Weight_lbs                     0\n",
       "B_age                           63\n",
       "R_age                           14\n",
       "R_Age Range                     14\n",
       "B_Age Range                     63\n",
       "Country1                       375\n",
       "dtype: int64"
      ]
     },
     "execution_count": 9,
     "metadata": {},
     "output_type": "execute_result"
    }
   ],
   "source": [
    "df.isnull().sum()"
   ]
  },
  {
   "cell_type": "code",
   "execution_count": 10,
   "id": "fee40eef",
   "metadata": {},
   "outputs": [],
   "source": [
    "mv = df['R_age'].mean()"
   ]
  },
  {
   "cell_type": "code",
   "execution_count": 11,
   "id": "c182316c",
   "metadata": {},
   "outputs": [],
   "source": [
    "df['R_age'].fillna(value=mv, inplace=True)"
   ]
  },
  {
   "cell_type": "code",
   "execution_count": 12,
   "id": "95b30133",
   "metadata": {},
   "outputs": [],
   "source": [
    "mv2 = df['B_age'].mean()"
   ]
  },
  {
   "cell_type": "code",
   "execution_count": 13,
   "id": "5a15f4bd",
   "metadata": {},
   "outputs": [],
   "source": [
    "df['B_age'].fillna(value=mv2, inplace=True)"
   ]
  },
  {
   "cell_type": "code",
   "execution_count": 14,
   "id": "05278537",
   "metadata": {},
   "outputs": [
    {
     "data": {
      "text/plain": [
       "R_fighter                        0\n",
       "B_fighter                        0\n",
       "Referee                          0\n",
       "date                             0\n",
       "Winner                           0\n",
       "Title Fight                      0\n",
       "weight_class                     0\n",
       "B Rounds                         0\n",
       "B Title Fights                   0\n",
       "B_current_win_streak             0\n",
       "B_current_lose_streak            0\n",
       "B_longest_win_streak             0\n",
       "B_wins                           0\n",
       "B_losses                         0\n",
       "B_draw                           0\n",
       "B_win_by_Decision_Unanimous      0\n",
       "B_win_by_KO/TKO                  0\n",
       "B_win_by_Submission              0\n",
       "B_Stance                        11\n",
       "B_Weight_lbs                     0\n",
       "R Rounds                         0\n",
       "R Title Fights                   0\n",
       "R_current_win_streak             0\n",
       "R_current_lose_streak            0\n",
       "R_longest_win_streak             0\n",
       "R_wins                           0\n",
       "R_losses                         0\n",
       "R_draw                           0\n",
       "R_win_by_Decision_Unanimous      0\n",
       "R_win_by_KO/TKO                  0\n",
       "R_win_by_Submission              0\n",
       "R_Stance                         6\n",
       "R_Weight_lbs                     0\n",
       "B_age                            0\n",
       "R_age                            0\n",
       "R_Age Range                     14\n",
       "B_Age Range                     63\n",
       "Country1                       375\n",
       "dtype: int64"
      ]
     },
     "execution_count": 14,
     "metadata": {},
     "output_type": "execute_result"
    }
   ],
   "source": [
    "df.isnull().sum()"
   ]
  },
  {
   "cell_type": "markdown",
   "id": "a78f107a",
   "metadata": {},
   "source": [
    "## Duplicates"
   ]
  },
  {
   "cell_type": "code",
   "execution_count": 15,
   "id": "2af93f0d",
   "metadata": {},
   "outputs": [],
   "source": [
    "dups = df.duplicated()"
   ]
  },
  {
   "cell_type": "code",
   "execution_count": 16,
   "id": "97e6a09d",
   "metadata": {},
   "outputs": [
    {
     "data": {
      "text/plain": [
       "(4560,)"
      ]
     },
     "execution_count": 16,
     "metadata": {},
     "output_type": "execute_result"
    }
   ],
   "source": [
    "dups.shape"
   ]
  },
  {
   "cell_type": "markdown",
   "id": "2eb1c35c",
   "metadata": {},
   "source": [
    "## Extreme Values Check"
   ]
  },
  {
   "cell_type": "markdown",
   "id": "b7d6dcee",
   "metadata": {},
   "source": [
    "### Red fighter wins"
   ]
  },
  {
   "cell_type": "code",
   "execution_count": 17,
   "id": "8fe00bcc",
   "metadata": {},
   "outputs": [
    {
     "name": "stderr",
     "output_type": "stream",
     "text": [
      "C:\\Users\\figue\\AppData\\Local\\Temp\\ipykernel_8\\711398104.py:1: UserWarning: \n",
      "\n",
      "`distplot` is a deprecated function and will be removed in seaborn v0.14.0.\n",
      "\n",
      "Please adapt your code to use either `displot` (a figure-level function with\n",
      "similar flexibility) or `histplot` (an axes-level function for histograms).\n",
      "\n",
      "For a guide to updating your code to use the new functions, please see\n",
      "https://gist.github.com/mwaskom/de44147ed2974457ad6372750bbe5751\n",
      "\n",
      "  rw = sns.distplot(df['R_wins'], bins=25)\n",
      "C:\\Users\\figue\\anaconda3\\Lib\\site-packages\\seaborn\\_oldcore.py:1119: FutureWarning: use_inf_as_na option is deprecated and will be removed in a future version. Convert inf values to NaN before operating instead.\n",
      "  with pd.option_context('mode.use_inf_as_na', True):\n"
     ]
    },
    {
     "data": {
      "image/png": "[encoded data removed]",
      "text/plain": [
       "<Figure size 640x480 with 1 Axes>"
      ]
     },
     "metadata": {},
     "output_type": "display_data"
    }
   ],
   "source": [
    "rw = sns.distplot(df['R_wins'], bins=25)"
   ]
  },
  {
   "cell_type": "code",
   "execution_count": 18,
   "id": "48050f17",
   "metadata": {},
   "outputs": [
    {
     "data": {
      "text/plain": [
       "4.402850877192982"
      ]
     },
     "execution_count": 18,
     "metadata": {},
     "output_type": "execute_result"
    }
   ],
   "source": [
    "df['R_wins'].mean()"
   ]
  },
  {
   "cell_type": "code",
   "execution_count": 19,
   "id": "aa0ec4e8",
   "metadata": {},
   "outputs": [
    {
     "data": {
      "text/plain": [
       "3.0"
      ]
     },
     "execution_count": 19,
     "metadata": {},
     "output_type": "execute_result"
    }
   ],
   "source": [
    "df['R_wins'].median()"
   ]
  },
  {
   "cell_type": "code",
   "execution_count": 20,
   "id": "d2e722a7",
   "metadata": {},
   "outputs": [
    {
     "data": {
      "text/plain": [
       "23"
      ]
     },
     "execution_count": 20,
     "metadata": {},
     "output_type": "execute_result"
    }
   ],
   "source": [
    "df['R_wins'].max()"
   ]
  },
  {
   "cell_type": "markdown",
   "id": "daae4a4a",
   "metadata": {},
   "source": [
    "### Blue fighter wins"
   ]
  },
  {
   "cell_type": "code",
   "execution_count": 21,
   "id": "7493a4a1",
   "metadata": {},
   "outputs": [
    {
     "name": "stderr",
     "output_type": "stream",
     "text": [
      "C:\\Users\\figue\\AppData\\Local\\Temp\\ipykernel_8\\423767685.py:1: UserWarning: \n",
      "\n",
      "`distplot` is a deprecated function and will be removed in seaborn v0.14.0.\n",
      "\n",
      "Please adapt your code to use either `displot` (a figure-level function with\n",
      "similar flexibility) or `histplot` (an axes-level function for histograms).\n",
      "\n",
      "For a guide to updating your code to use the new functions, please see\n",
      "https://gist.github.com/mwaskom/de44147ed2974457ad6372750bbe5751\n",
      "\n",
      "  bw = sns.distplot(df['R_wins'], bins=25)\n",
      "C:\\Users\\figue\\anaconda3\\Lib\\site-packages\\seaborn\\_oldcore.py:1119: FutureWarning: use_inf_as_na option is deprecated and will be removed in a future version. Convert inf values to NaN before operating instead.\n",
      "  with pd.option_context('mode.use_inf_as_na', True):\n"
     ]
    },
    {
     "data": {
      "image/png": "[encoded data removed]",
      "text/plain": [
       "<Figure size 640x480 with 1 Axes>"
      ]
     },
     "metadata": {},
     "output_type": "display_data"
    }
   ],
   "source": [
    "bw = sns.distplot(df['R_wins'], bins=25)"
   ]
  },
  {
   "cell_type": "code",
   "execution_count": 22,
   "id": "3ce2c8d4",
   "metadata": {},
   "outputs": [
    {
     "data": {
      "text/plain": [
       "3.3875"
      ]
     },
     "execution_count": 22,
     "metadata": {},
     "output_type": "execute_result"
    }
   ],
   "source": [
    "df['B_wins'].mean()"
   ]
  },
  {
   "cell_type": "code",
   "execution_count": 23,
   "id": "04e27a66",
   "metadata": {},
   "outputs": [
    {
     "data": {
      "text/plain": [
       "2.0"
      ]
     },
     "execution_count": 23,
     "metadata": {},
     "output_type": "execute_result"
    }
   ],
   "source": [
    "df['B_wins'].median()"
   ]
  },
  {
   "cell_type": "code",
   "execution_count": 24,
   "id": "1ff737c0",
   "metadata": {},
   "outputs": [
    {
     "data": {
      "text/plain": [
       "23"
      ]
     },
     "execution_count": 24,
     "metadata": {},
     "output_type": "execute_result"
    }
   ],
   "source": [
    "df['B_wins'].max()"
   ]
  },
  {
   "cell_type": "markdown",
   "id": "37caa600",
   "metadata": {},
   "source": [
    "# Prep for regression analysis"
   ]
  },
  {
   "cell_type": "markdown",
   "id": "b6c97a46",
   "metadata": {},
   "source": [
    "## Red wins and age range"
   ]
  },
  {
   "cell_type": "code",
   "execution_count": 25,
   "id": "4b14baeb",
   "metadata": {},
   "outputs": [
    {
     "data": {
      "image/png": "[encoded data removed]",
      "text/plain": [
       "<Figure size 640x480 with 1 Axes>"
      ]
     },
     "metadata": {},
     "output_type": "display_data"
    }
   ],
   "source": [
    "df.plot(x = 'R_wins', y='R_age',style='o') # The style option creates a scatterplot; without it, we only have lines.\n",
    "plt.title('Red Fighter Wins v Red Age')  \n",
    "plt.xlabel('Red Wins')  \n",
    "plt.ylabel('Red Age')  \n",
    "plt.show()"
   ]
  },
  {
   "cell_type": "code",
   "execution_count": 26,
   "id": "2948f341",
   "metadata": {},
   "outputs": [],
   "source": [
    "X = df['R_wins'].values.reshape(-1,1)\n",
    "y = df['R_age'].values.reshape(-1,1)"
   ]
  },
  {
   "cell_type": "code",
   "execution_count": 27,
   "id": "41b21e17",
   "metadata": {},
   "outputs": [
    {
     "data": {
      "text/plain": [
       "array([[1],\n",
       "       [4],\n",
       "       [5],\n",
       "       ...,\n",
       "       [1],\n",
       "       [1],\n",
       "       [0]], dtype=int64)"
      ]
     },
     "execution_count": 27,
     "metadata": {},
     "output_type": "execute_result"
    }
   ],
   "source": [
    "X"
   ]
  },
  {
   "cell_type": "code",
   "execution_count": 28,
   "id": "7ebd97d8",
   "metadata": {},
   "outputs": [
    {
     "data": {
      "text/plain": [
       "array([[27.        ],\n",
       "       [28.        ],\n",
       "       [43.        ],\n",
       "       ...,\n",
       "       [29.96106467],\n",
       "       [30.        ],\n",
       "       [27.        ]])"
      ]
     },
     "execution_count": 28,
     "metadata": {},
     "output_type": "execute_result"
    }
   ],
   "source": [
    "y"
   ]
  },
  {
   "cell_type": "code",
   "execution_count": 29,
   "id": "9dd5986c",
   "metadata": {},
   "outputs": [],
   "source": [
    "# Splitting into training and test sets\n",
    "X_train, X_test, y_train, y_test = train_test_split(X, y, test_size=0.3, random_state=0)"
   ]
  },
  {
   "cell_type": "markdown",
   "id": "6f7c05ca",
   "metadata": {},
   "source": [
    "# Regression analysis"
   ]
  },
  {
   "cell_type": "code",
   "execution_count": 30,
   "id": "c186fbb0",
   "metadata": {},
   "outputs": [],
   "source": [
    "regression = LinearRegression()"
   ]
  },
  {
   "cell_type": "code",
   "execution_count": 31,
   "id": "4138ff5a",
   "metadata": {},
   "outputs": [
    {
     "data": {
      "text/html": [
       "<style>#sk-container-id-1 {color: black;}#sk-container-id-1 pre{padding: 0;}#sk-container-id-1 div.sk-toggleable {background-color: white;}#sk-container-id-1 label.sk-toggleable__label {cursor: pointer;display: block;width: 100%;margin-bottom: 0;padding: 0.3em;box-sizing: border-box;text-align: center;}#sk-container-id-1 label.sk-toggleable__label-arrow:before {content: \"▸\";float: left;margin-right: 0.25em;color: #696969;}#sk-container-id-1 label.sk-toggleable__label-arrow:hover:before {color: black;}#sk-container-id-1 div.sk-estimator:hover label.sk-toggleable__label-arrow:before {color: black;}#sk-container-id-1 div.sk-toggleable__content {max-height: 0;max-width: 0;overflow: hidden;text-align: left;background-color: #f0f8ff;}#sk-container-id-1 div.sk-toggleable__content pre {margin: 0.2em;color: black;border-radius: 0.25em;background-color: #f0f8ff;}#sk-container-id-1 input.sk-toggleable__control:checked~div.sk-toggleable__content {max-height: 200px;max-width: 100%;overflow: auto;}#sk-container-id-1 input.sk-toggleable__control:checked~label.sk-toggleable__label-arrow:before {content: \"▾\";}#sk-container-id-1 div.sk-estimator input.sk-toggleable__control:checked~label.sk-toggleable__label {background-color: #d4ebff;}#sk-container-id-1 div.sk-label input.sk-toggleable__control:checked~label.sk-toggleable__label {background-color: #d4ebff;}#sk-container-id-1 input.sk-hidden--visually {border: 0;clip: rect(1px 1px 1px 1px);clip: rect(1px, 1px, 1px, 1px);height: 1px;margin: -1px;overflow: hidden;padding: 0;position: absolute;width: 1px;}#sk-container-id-1 div.sk-estimator {font-family: monospace;background-color: #f0f8ff;border: 1px dotted black;border-radius: 0.25em;box-sizing: border-box;margin-bottom: 0.5em;}#sk-container-id-1 div.sk-estimator:hover {background-color: #d4ebff;}#sk-container-id-1 div.sk-parallel-item::after {content: \"\";width: 100%;border-bottom: 1px solid gray;flex-grow: 1;}#sk-container-id-1 div.sk-label:hover label.sk-toggleable__label {background-color: #d4ebff;}#sk-container-id-1 div.sk-serial::before {content: \"\";position: absolute;border-left: 1px solid gray;box-sizing: border-box;top: 0;bottom: 0;left: 50%;z-index: 0;}#sk-container-id-1 div.sk-serial {display: flex;flex-direction: column;align-items: center;background-color: white;padding-right: 0.2em;padding-left: 0.2em;position: relative;}#sk-container-id-1 div.sk-item {position: relative;z-index: 1;}#sk-container-id-1 div.sk-parallel {display: flex;align-items: stretch;justify-content: center;background-color: white;position: relative;}#sk-container-id-1 div.sk-item::before, #sk-container-id-1 div.sk-parallel-item::before {content: \"\";position: absolute;border-left: 1px solid gray;box-sizing: border-box;top: 0;bottom: 0;left: 50%;z-index: -1;}#sk-container-id-1 div.sk-parallel-item {display: flex;flex-direction: column;z-index: 1;position: relative;background-color: white;}#sk-container-id-1 div.sk-parallel-item:first-child::after {align-self: flex-end;width: 50%;}#sk-container-id-1 div.sk-parallel-item:last-child::after {align-self: flex-start;width: 50%;}#sk-container-id-1 div.sk-parallel-item:only-child::after {width: 0;}#sk-container-id-1 div.sk-dashed-wrapped {border: 1px dashed gray;margin: 0 0.4em 0.5em 0.4em;box-sizing: border-box;padding-bottom: 0.4em;background-color: white;}#sk-container-id-1 div.sk-label label {font-family: monospace;font-weight: bold;display: inline-block;line-height: 1.2em;}#sk-container-id-1 div.sk-label-container {text-align: center;}#sk-container-id-1 div.sk-container {/* jupyter's `normalize.less` sets `[hidden] { display: none; }` but bootstrap.min.css set `[hidden] { display: none !important; }` so we also need the `!important` here to be able to override the default hidden behavior on the sphinx rendered scikit-learn.org. See: https://github.com/scikit-learn/scikit-learn/issues/21755 */display: inline-block !important;position: relative;}#sk-container-id-1 div.sk-text-repr-fallback {display: none;}</style><div id=\"sk-container-id-1\" class=\"sk-top-container\"><div class=\"sk-text-repr-fallback\"><pre>LinearRegression()</pre><b>In a Jupyter environment, please rerun this cell to show the HTML representation or trust the notebook. <br />On GitHub, the HTML representation is unable to render, please try loading this page with nbviewer.org.</b></div><div class=\"sk-container\" hidden><div class=\"sk-item\"><div class=\"sk-estimator sk-toggleable\"><input class=\"sk-toggleable__control sk-hidden--visually\" id=\"sk-estimator-id-1\" type=\"checkbox\" checked><label for=\"sk-estimator-id-1\" class=\"sk-toggleable__label sk-toggleable__label-arrow\">LinearRegression</label><div class=\"sk-toggleable__content\"><pre>LinearRegression()</pre></div></div></div></div></div>"
      ],
      "text/plain": [
       "LinearRegression()"
      ]
     },
     "execution_count": 31,
     "metadata": {},
     "output_type": "execute_result"
    }
   ],
   "source": [
    "regression.fit(X_train, y_train)"
   ]
  },
  {
   "cell_type": "code",
   "execution_count": 32,
   "id": "a68f5652",
   "metadata": {},
   "outputs": [],
   "source": [
    "y_predicted = regression.predict(X_test)"
   ]
  },
  {
   "cell_type": "code",
   "execution_count": 33,
   "id": "f87fee79",
   "metadata": {},
   "outputs": [
    {
     "data": {
      "image/png": "[encoded data removed]",
      "text/plain": [
       "<Figure size 640x480 with 1 Axes>"
      ]
     },
     "metadata": {},
     "output_type": "display_data"
    }
   ],
   "source": [
    "plot_test = plt\n",
    "plot_test.scatter(X_test, y_test, color='gray', s = 15)\n",
    "plot_test.plot(X_test, y_predicted, color='red', linewidth =3)\n",
    "plot_test.title('Red Fighter Wins v Red Age (Test set)')\n",
    "plot_test.xlabel('Red Wins')\n",
    "plot_test.ylabel('Red Age')\n",
    "plot_test.show()"
   ]
  },
  {
   "cell_type": "code",
   "execution_count": 34,
   "id": "789e8160",
   "metadata": {},
   "outputs": [],
   "source": [
    "rmse = mean_squared_error(y_test, y_predicted) # This is the mean squared error\n",
    "r2 = r2_score(y_test, y_predicted) # This is the R2 score. "
   ]
  },
  {
   "cell_type": "code",
   "execution_count": 35,
   "id": "6b49203f",
   "metadata": {},
   "outputs": [
    {
     "name": "stdout",
     "output_type": "stream",
     "text": [
      "Slope: [[0.45743666]]\n",
      "Mean squared error:  14.375963816967134\n",
      "R2 score:  0.17889540457780417\n"
     ]
    }
   ],
   "source": [
    "print('Slope:' ,regression.coef_)\n",
    "print('Mean squared error: ', rmse)\n",
    "print('R2 score: ', r2)"
   ]
  },
  {
   "cell_type": "code",
   "execution_count": 36,
   "id": "823f7daa",
   "metadata": {},
   "outputs": [
    {
     "data": {
      "text/plain": [
       "array([[31.13624561],\n",
       "       [28.39162565],\n",
       "       [30.22137229],\n",
       "       ...,\n",
       "       [28.84906231],\n",
       "       [32.96599225],\n",
       "       [28.39162565]])"
      ]
     },
     "execution_count": 36,
     "metadata": {},
     "output_type": "execute_result"
    }
   ],
   "source": [
    "y_predicted"
   ]
  },
  {
   "cell_type": "code",
   "execution_count": 37,
   "id": "7d538a22",
   "metadata": {},
   "outputs": [
    {
     "data": {
      "text/html": [
       "<div>\n",
       "<style scoped>\n",
       "    .dataframe tbody tr th:only-of-type {\n",
       "        vertical-align: middle;\n",
       "    }\n",
       "\n",
       "    .dataframe tbody tr th {\n",
       "        vertical-align: top;\n",
       "    }\n",
       "\n",
       "    .dataframe thead th {\n",
       "        text-align: right;\n",
       "    }\n",
       "</style>\n",
       "<table border=\"1\" class=\"dataframe\">\n",
       "  <thead>\n",
       "    <tr style=\"text-align: right;\">\n",
       "      <th></th>\n",
       "      <th>Actual</th>\n",
       "      <th>Predicted</th>\n",
       "    </tr>\n",
       "  </thead>\n",
       "  <tbody>\n",
       "    <tr>\n",
       "      <th>0</th>\n",
       "      <td>32.0</td>\n",
       "      <td>31.136246</td>\n",
       "    </tr>\n",
       "    <tr>\n",
       "      <th>1</th>\n",
       "      <td>28.0</td>\n",
       "      <td>28.391626</td>\n",
       "    </tr>\n",
       "    <tr>\n",
       "      <th>2</th>\n",
       "      <td>24.0</td>\n",
       "      <td>30.221372</td>\n",
       "    </tr>\n",
       "    <tr>\n",
       "      <th>3</th>\n",
       "      <td>30.0</td>\n",
       "      <td>28.391626</td>\n",
       "    </tr>\n",
       "    <tr>\n",
       "      <th>4</th>\n",
       "      <td>30.0</td>\n",
       "      <td>28.849062</td>\n",
       "    </tr>\n",
       "    <tr>\n",
       "      <th>5</th>\n",
       "      <td>21.0</td>\n",
       "      <td>27.934189</td>\n",
       "    </tr>\n",
       "    <tr>\n",
       "      <th>6</th>\n",
       "      <td>28.0</td>\n",
       "      <td>28.849062</td>\n",
       "    </tr>\n",
       "    <tr>\n",
       "      <th>7</th>\n",
       "      <td>34.0</td>\n",
       "      <td>31.593682</td>\n",
       "    </tr>\n",
       "    <tr>\n",
       "      <th>8</th>\n",
       "      <td>31.0</td>\n",
       "      <td>32.508556</td>\n",
       "    </tr>\n",
       "    <tr>\n",
       "      <th>9</th>\n",
       "      <td>27.0</td>\n",
       "      <td>27.934189</td>\n",
       "    </tr>\n",
       "    <tr>\n",
       "      <th>10</th>\n",
       "      <td>31.0</td>\n",
       "      <td>29.763936</td>\n",
       "    </tr>\n",
       "    <tr>\n",
       "      <th>11</th>\n",
       "      <td>31.0</td>\n",
       "      <td>28.391626</td>\n",
       "    </tr>\n",
       "    <tr>\n",
       "      <th>12</th>\n",
       "      <td>28.0</td>\n",
       "      <td>29.306499</td>\n",
       "    </tr>\n",
       "    <tr>\n",
       "      <th>13</th>\n",
       "      <td>34.0</td>\n",
       "      <td>33.880866</td>\n",
       "    </tr>\n",
       "    <tr>\n",
       "      <th>14</th>\n",
       "      <td>29.0</td>\n",
       "      <td>30.221372</td>\n",
       "    </tr>\n",
       "    <tr>\n",
       "      <th>15</th>\n",
       "      <td>30.0</td>\n",
       "      <td>29.306499</td>\n",
       "    </tr>\n",
       "    <tr>\n",
       "      <th>16</th>\n",
       "      <td>35.0</td>\n",
       "      <td>29.306499</td>\n",
       "    </tr>\n",
       "    <tr>\n",
       "      <th>17</th>\n",
       "      <td>37.0</td>\n",
       "      <td>32.508556</td>\n",
       "    </tr>\n",
       "    <tr>\n",
       "      <th>18</th>\n",
       "      <td>29.0</td>\n",
       "      <td>27.934189</td>\n",
       "    </tr>\n",
       "    <tr>\n",
       "      <th>19</th>\n",
       "      <td>34.0</td>\n",
       "      <td>31.136246</td>\n",
       "    </tr>\n",
       "    <tr>\n",
       "      <th>20</th>\n",
       "      <td>27.0</td>\n",
       "      <td>29.763936</td>\n",
       "    </tr>\n",
       "    <tr>\n",
       "      <th>21</th>\n",
       "      <td>33.0</td>\n",
       "      <td>34.338302</td>\n",
       "    </tr>\n",
       "    <tr>\n",
       "      <th>22</th>\n",
       "      <td>28.0</td>\n",
       "      <td>28.391626</td>\n",
       "    </tr>\n",
       "    <tr>\n",
       "      <th>23</th>\n",
       "      <td>31.0</td>\n",
       "      <td>28.391626</td>\n",
       "    </tr>\n",
       "    <tr>\n",
       "      <th>24</th>\n",
       "      <td>25.0</td>\n",
       "      <td>28.391626</td>\n",
       "    </tr>\n",
       "    <tr>\n",
       "      <th>25</th>\n",
       "      <td>29.0</td>\n",
       "      <td>31.136246</td>\n",
       "    </tr>\n",
       "    <tr>\n",
       "      <th>26</th>\n",
       "      <td>37.0</td>\n",
       "      <td>30.221372</td>\n",
       "    </tr>\n",
       "    <tr>\n",
       "      <th>27</th>\n",
       "      <td>29.0</td>\n",
       "      <td>32.965992</td>\n",
       "    </tr>\n",
       "    <tr>\n",
       "      <th>28</th>\n",
       "      <td>29.0</td>\n",
       "      <td>28.391626</td>\n",
       "    </tr>\n",
       "    <tr>\n",
       "      <th>29</th>\n",
       "      <td>24.0</td>\n",
       "      <td>27.934189</td>\n",
       "    </tr>\n",
       "  </tbody>\n",
       "</table>\n",
       "</div>"
      ],
      "text/plain": [
       "    Actual  Predicted\n",
       "0     32.0  31.136246\n",
       "1     28.0  28.391626\n",
       "2     24.0  30.221372\n",
       "3     30.0  28.391626\n",
       "4     30.0  28.849062\n",
       "5     21.0  27.934189\n",
       "6     28.0  28.849062\n",
       "7     34.0  31.593682\n",
       "8     31.0  32.508556\n",
       "9     27.0  27.934189\n",
       "10    31.0  29.763936\n",
       "11    31.0  28.391626\n",
       "12    28.0  29.306499\n",
       "13    34.0  33.880866\n",
       "14    29.0  30.221372\n",
       "15    30.0  29.306499\n",
       "16    35.0  29.306499\n",
       "17    37.0  32.508556\n",
       "18    29.0  27.934189\n",
       "19    34.0  31.136246\n",
       "20    27.0  29.763936\n",
       "21    33.0  34.338302\n",
       "22    28.0  28.391626\n",
       "23    31.0  28.391626\n",
       "24    25.0  28.391626\n",
       "25    29.0  31.136246\n",
       "26    37.0  30.221372\n",
       "27    29.0  32.965992\n",
       "28    29.0  28.391626\n",
       "29    24.0  27.934189"
      ]
     },
     "execution_count": 37,
     "metadata": {},
     "output_type": "execute_result"
    }
   ],
   "source": [
    "data = pd.DataFrame({'Actual': y_test.flatten(), 'Predicted': y_predicted.flatten()})\n",
    "data.head(30)"
   ]
  },
  {
   "cell_type": "markdown",
   "id": "9c344cb5",
   "metadata": {},
   "source": [
    "## Comparing regression and training set"
   ]
  },
  {
   "cell_type": "code",
   "execution_count": 38,
   "id": "f5b8c952",
   "metadata": {},
   "outputs": [],
   "source": [
    "y_predicted_train = regression.predict(X_train) # This is predicting X_train!"
   ]
  },
  {
   "cell_type": "code",
   "execution_count": 39,
   "id": "df7772ee",
   "metadata": {},
   "outputs": [],
   "source": [
    "rmse = mean_squared_error(y_train, y_predicted_train)\n",
    "r2 = r2_score(y_train, y_predicted_train)"
   ]
  },
  {
   "cell_type": "code",
   "execution_count": 40,
   "id": "828aeb40",
   "metadata": {},
   "outputs": [
    {
     "name": "stdout",
     "output_type": "stream",
     "text": [
      "Slope: [[0.45743666]]\n",
      "Mean squared error:  13.955485176590452\n",
      "R2 score:  0.1902620769047787\n"
     ]
    }
   ],
   "source": [
    "print('Slope:' ,regression.coef_)\n",
    "print('Mean squared error: ', rmse)\n",
    "print('R2 score: ', r2)"
   ]
  },
  {
   "cell_type": "code",
   "execution_count": 41,
   "id": "3a46c035",
   "metadata": {},
   "outputs": [
    {
     "data": {
      "image/png": "[encoded data removed]",
      "text/plain": [
       "<Figure size 640x480 with 1 Axes>"
      ]
     },
     "metadata": {},
     "output_type": "display_data"
    }
   ],
   "source": [
    "plot_test = plt\n",
    "plot_test.scatter(X_train, y_train, color='green', s = 15)\n",
    "plot_test.plot(X_train, y_predicted_train, color='red', linewidth =3)\n",
    "plot_test.title('Red Fighter Wins v Red Age (Train set)')\n",
    "plot_test.xlabel('Red Wins')\n",
    "plot_test.ylabel('Red Age')\n",
    "plot_test.show()"
   ]
  },
  {
   "cell_type": "code",
   "execution_count": 42,
   "id": "f90f86d8",
   "metadata": {},
   "outputs": [],
   "source": [
    "# Looking at this data shows that age may not have a strong variance with a .19. This suggests that this isnt a great data set to use with this model.\n",
    "#It should be noted that there is 4000 data points, which gives this a fair amount of data to look at.\n",
    "#Also the mean squared error is at 13, which is high, but not a huge amount.\n",
    "# The slope does show that there is a positive relationship that the older the fighter is more likely they are to win."
   ]
  },
  {
   "cell_type": "code",
   "execution_count": 43,
   "id": "9174ec3f",
   "metadata": {},
   "outputs": [],
   "source": [
    "df.to_csv(os.path.join(path, '02 Data','Prepared Data', 'UFC_MLRegression.csv'))"
   ]
  },
  {
   "cell_type": "code",
   "execution_count": null,
   "id": "edb4b323",
   "metadata": {},
   "outputs": [],
   "source": []
  }
 ],
 "metadata": {
  "kernelspec": {
   "display_name": "Python 3 (ipykernel)",
   "language": "python",
   "name": "python3"
  },
  "language_info": {
   "codemirror_mode": {
    "name": "ipython",
    "version": 3
   },
   "file_extension": ".py",
   "mimetype": "text/x-python",
   "name": "python",
   "nbconvert_exporter": "python",
   "pygments_lexer": "ipython3",
   "version": "3.11.5"
  }
 },
 "nbformat": 4,
 "nbformat_minor": 5
}
